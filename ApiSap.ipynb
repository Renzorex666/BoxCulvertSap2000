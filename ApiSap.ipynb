{
 "cells": [
  {
   "cell_type": "code",
   "execution_count": 5,
   "metadata": {},
   "outputs": [
    {
     "name": "stderr",
     "output_type": "stream",
     "text": [
      "c:\\Users\\David Choque\\AppData\\Local\\Programs\\Python\\Python313\\Lib\\site-packages\\comtypes\\tools\\codegenerator\\namespaces.py:216: UserWarning: The 'eHingeDistributionType_EqualSpacing' member of the 'eHingeDistributionType' enumeration is already assigned 3, but it will be overwritten with 4, based on the type information.\n",
      "  warnings.warn(\n",
      "c:\\Users\\David Choque\\AppData\\Local\\Programs\\Python\\Python313\\Lib\\site-packages\\comtypes\\tools\\codegenerator\\namespaces.py:216: UserWarning: The 'eHingeDistributionType_EqualSpacing' member of the 'eHingeDistributionType' enumeration is already assigned 4, but it will be overwritten with 5, based on the type information.\n",
      "  warnings.warn(\n"
     ]
    }
   ],
   "source": [
    "import os\n",
    "import sys\n",
    "import comtypes.client\n",
    "\n",
    "\n",
    "AttachToInstance = True\n",
    "\n",
    "# Create API helper object\n",
    "helper = comtypes.client.CreateObject('SAP2000v1.Helper')\n",
    "helper = helper.QueryInterface(comtypes.gen.SAP2000v1.cHelper)\n",
    "\n",
    "mySapObject = helper.GetObject(\"CSI.SAP2000.API.SapObject\")\n",
    "\n",
    "# Create SapModel object\n",
    "SapModel = mySapObject.SapModel"
   ]
  },
  {
   "cell_type": "code",
   "execution_count": 6,
   "metadata": {},
   "outputs": [],
   "source": [
    "MATERIAL_CONCRETE = 2\n",
    "\n",
    "ret = SapModel.PropMaterial.SetMaterial('Renzo', MATERIAL_CONCRETE)"
   ]
  },
  {
   "cell_type": "code",
   "execution_count": 8,
   "metadata": {},
   "outputs": [],
   "source": [
    "#Crear Load Patterns \n",
    "LTYPE_DEAD = 1\n",
    "\n",
    "LTYPE_SUPERDEAD = 2\n",
    "\n",
    "LTYPE_LIVE = 3\n",
    "\n",
    "LTYPE_REDUCELIVE = 4\n",
    "\n",
    "LTYPE_QUAKE = 5\n",
    "\n",
    "LTYPE_WIND= 6\n",
    "\n",
    "LTYPE_SNOW = 7\n",
    "\n",
    "LTYPE_OTHER = 8\n",
    "\n",
    "LTYPE_MOVE = 9\n",
    "\n",
    "LTYPE_TEMPERATURE = 10\n",
    "\n",
    "LTYPE_ROOFLIVE = 11\n",
    "\n",
    "LTYPE_NOTIONAL = 12\n",
    "\n",
    "LTYPE_PATTERNLIVE = 13\n",
    "\n",
    "LTYPE_WAVE= 14\n",
    "\n",
    "LTYPE_BRAKING = 15\n",
    "\n",
    "LTYPE_CENTRIFUGAL = 16\n",
    "\n",
    "LTYPE_FRICTION = 17\n",
    "\n",
    "LTYPE_ICE = 18\n",
    "\n",
    "LTYPE_WINDONLIVELOAD = 19\n",
    "\n",
    "LTYPE_HORIZONTALEARTHPRESSURE = 20\n",
    "\n",
    "LTYPE_VERTICALEARTHPRESSURE = 21\n",
    "\n",
    "LTYPE_EARTHSURCHARGE = 22\n",
    "\n",
    "LTYPE_DOWNDRAG = 23\n",
    "\n",
    "LTYPE_VEHICLECOLLISION = 24\n",
    "\n",
    "LTYPE_VESSELCOLLISION = 25\n",
    "\n",
    "LTYPE_TEMPERATUREGRADIENT = 26\n",
    "\n",
    "LTYPE_SETTLEMENT = 27\n",
    "\n",
    "LTYPE_SHRINKAGE = 28\n",
    "\n",
    "LTYPE_CREEP = 29\n",
    "\n",
    "LTYPE_WATERLOADPRESSURE = 30\n",
    "\n",
    "LTYPE_LIVELOADSURCHARGE = 31\n",
    "\n",
    "LTYPE_LOCKEDINFORCES = 32\n",
    "\n",
    "LTYPE_PEDESTRIANLL = 33\n",
    "\n",
    "LTYPE_PRESTRESS = 34\n",
    "\n",
    "LTYPE_HYPERSTATIC = 35\n",
    "\n",
    "LTYPE_BOUYANCY = 36\n",
    "\n",
    "LTYPE_STREAMFLOW = 37\n",
    "\n",
    "LTYPE_IMPACT = 38\n",
    "\n",
    "LTYPE_CONSTRUCTION = 39\n",
    "\n",
    "ret = SapModel.LoadPatterns.Add('1', LTYPE_OTHER,1, True)\n",
    "\n",
    "ret = SapModel.LoadPatterns.Add('2', LTYPE_OTHER,0, True)\n",
    "\n",
    "ret = SapModel.LoadPatterns.Add('3', LTYPE_LIVE, 0, True)\n",
    "\n",
    "ret = SapModel.LoadPatterns.Add('4', 2, 0, True)\n",
    "\n",
    "ret = SapModel.LoadPatterns.Add('5', 3, 0, True)\n",
    "\n",
    "ret = SapModel.LoadPatterns.Add('6', LTYPE_OTHER,0, True)\n",
    "\n",
    "ret = SapModel.LoadPatterns.Add('7', LTYPE_OTHER,0, True)\n"
   ]
  },
  {
   "cell_type": "code",
   "execution_count": 13,
   "metadata": {},
   "outputs": [],
   "source": [
    "#Crear  Combinaciones\n",
    "\n",
    "ret = SapModel.RespCombo.Add(\"ComboRenzo\", 0)"
   ]
  },
  {
   "cell_type": "code",
   "execution_count": 3,
   "metadata": {},
   "outputs": [
    {
     "name": "stdout",
     "output_type": "stream",
     "text": [
      "Tercer commit\n"
     ]
    }
   ],
   "source": [
    "print(\"Tercer commit\")"
   ]
  },
  {
   "cell_type": "code",
   "execution_count": 16,
   "metadata": {},
   "outputs": [],
   "source": [
    "ret = SapModel.RespCombo.SetCaseList(\"ComboRenzo\", 0, \"2\", 1.6)"
   ]
  },
  {
   "cell_type": "code",
   "execution_count": 18,
   "metadata": {},
   "outputs": [],
   "source": [
    "ret = SapModel.RespCombo.SetCaseList(\"ComboRenzo\", 0, \"31\", 1.2)"
   ]
  },
  {
   "cell_type": "code",
   "execution_count": 1,
   "metadata": {},
   "outputs": [
    {
     "name": "stdout",
     "output_type": "stream",
     "text": [
      "HOla mundo\n"
     ]
    }
   ],
   "source": [
    "print(\"HOla mundo\")"
   ]
  },
  {
   "cell_type": "code",
   "execution_count": 2,
   "metadata": {},
   "outputs": [
    {
     "name": "stdout",
     "output_type": "stream",
     "text": [
      "segundo Commit\n"
     ]
    }
   ],
   "source": [
    "print(\"segundo Commit\")"
   ]
  }
 ],
 "metadata": {
  "kernelspec": {
   "display_name": "Python 3",
   "language": "python",
   "name": "python3"
  },
  "language_info": {
   "codemirror_mode": {
    "name": "ipython",
    "version": 3
   },
   "file_extension": ".py",
   "mimetype": "text/x-python",
   "name": "python",
   "nbconvert_exporter": "python",
   "pygments_lexer": "ipython3",
   "version": "3.11.3"
  }
 },
 "nbformat": 4,
 "nbformat_minor": 2
}
